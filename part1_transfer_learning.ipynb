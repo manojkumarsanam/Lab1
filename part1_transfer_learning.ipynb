{
 "cells": [
  {
   "cell_type": "code",
   "execution_count": 1,
   "id": "94d23659-76e9-4162-ac01-e686f4b2cd8e",
   "metadata": {},
   "outputs": [],
   "source": [
    "import os\n",
    "import numpy as np\n",
    "import torch\n",
    "import torch.nn as nn\n",
    "import torch.optim as optim\n",
    "from torch.utils.data import DataLoader, Dataset, random_split\n",
    "from torchvision import datasets, transforms, models\n",
    "import matplotlib.pyplot as plt\n",
    "import pandas as pd\n",
    "from PIL import Image\n",
    "from sklearn.metrics import confusion_matrix, classification_report\n",
    "import seaborn as sns"
   ]
  },
  {
   "cell_type": "code",
   "execution_count": 2,
   "id": "2ebc910e-c1f0-48f6-83df-b39e53a0cbdc",
   "metadata": {},
   "outputs": [
    {
     "data": {
      "text/plain": [
       "'/Users/sahit/Manoj'"
      ]
     },
     "execution_count": 2,
     "metadata": {},
     "output_type": "execute_result"
    }
   ],
   "source": [
    "os.getcwd()"
   ]
  },
  {
   "cell_type": "markdown",
   "id": "ea814db8-cfcf-41d0-b87e-eb5e40475abe",
   "metadata": {},
   "source": [
    "### To change file names of the ECG graphs for convenience"
   ]
  },
  {
   "cell_type": "code",
   "execution_count": 3,
   "id": "1751c3e5-3db7-4f26-97c7-91023f275344",
   "metadata": {},
   "outputs": [
    {
     "ename": "ValueError",
     "evalue": "invalid literal for int() with base 10: 'Store'",
     "output_type": "error",
     "traceback": [
      "\u001b[0;31m---------------------------------------------------------------------------\u001b[0m",
      "\u001b[0;31mValueError\u001b[0m                                Traceback (most recent call last)",
      "Cell \u001b[0;32mIn[3], line 5\u001b[0m\n\u001b[1;32m      3\u001b[0m old_path \u001b[38;5;241m=\u001b[39m os\u001b[38;5;241m.\u001b[39mpath\u001b[38;5;241m.\u001b[39mjoin(folder_path, filename)\n\u001b[1;32m      4\u001b[0m name, ext \u001b[38;5;241m=\u001b[39m os\u001b[38;5;241m.\u001b[39mpath\u001b[38;5;241m.\u001b[39msplitext(filename)\n\u001b[0;32m----> 5\u001b[0m new_name \u001b[38;5;241m=\u001b[39m \u001b[38;5;28mstr\u001b[39m(\u001b[38;5;28mint\u001b[39m(name[\u001b[38;5;241m-\u001b[39m\u001b[38;5;241m5\u001b[39m:]))\n\u001b[1;32m      6\u001b[0m new_name \u001b[38;5;241m=\u001b[39m new_name\u001b[38;5;241m.\u001b[39mstrip()\u001b[38;5;241m.\u001b[39mlower()\n\u001b[1;32m      7\u001b[0m new_filename \u001b[38;5;241m=\u001b[39m \u001b[38;5;124mf\u001b[39m\u001b[38;5;124m\"\u001b[39m\u001b[38;5;132;01m{\u001b[39;00mnew_name\u001b[38;5;132;01m}\u001b[39;00m\u001b[38;5;132;01m{\u001b[39;00mext\u001b[38;5;132;01m}\u001b[39;00m\u001b[38;5;124m\"\u001b[39m\n",
      "\u001b[0;31mValueError\u001b[0m: invalid literal for int() with base 10: 'Store'"
     ]
    }
   ],
   "source": [
    "folder_path = './test'\n",
    "for filename in os.listdir(folder_path):\n",
    "    old_path = os.path.join(folder_path, filename)\n",
    "    name, ext = os.path.splitext(filename)\n",
    "    new_name = str(int(name[-5:]))\n",
    "    new_name = new_name.strip().lower()\n",
    "    new_filename = f\"{new_name}{ext}\"\n",
    "    new_path = os.path.join(folder_path, new_filename)\n",
    "    os.rename(old_path, new_path)"
   ]
  },
  {
   "cell_type": "markdown",
   "id": "0e7f08fd-0143-4bc3-bca0-9e1c3cfb349c",
   "metadata": {},
   "source": [
    "### Change column names in the csv file"
   ]
  },
  {
   "cell_type": "code",
   "execution_count": 4,
   "id": "ddb9bcdb-b31f-4910-9aaf-4177ed3c50f2",
   "metadata": {},
   "outputs": [
    {
     "data": {
      "text/html": [
       "<div>\n",
       "<style scoped>\n",
       "    .dataframe tbody tr th:only-of-type {\n",
       "        vertical-align: middle;\n",
       "    }\n",
       "\n",
       "    .dataframe tbody tr th {\n",
       "        vertical-align: top;\n",
       "    }\n",
       "\n",
       "    .dataframe thead th {\n",
       "        text-align: right;\n",
       "    }\n",
       "</style>\n",
       "<table border=\"1\" class=\"dataframe\">\n",
       "  <thead>\n",
       "    <tr style=\"text-align: right;\">\n",
       "      <th></th>\n",
       "      <th>filename</th>\n",
       "      <th>target</th>\n",
       "    </tr>\n",
       "  </thead>\n",
       "  <tbody>\n",
       "    <tr>\n",
       "      <th>0</th>\n",
       "      <td>27905</td>\n",
       "      <td>1.0</td>\n",
       "    </tr>\n",
       "    <tr>\n",
       "      <th>1</th>\n",
       "      <td>13290</td>\n",
       "      <td>1.0</td>\n",
       "    </tr>\n",
       "    <tr>\n",
       "      <th>2</th>\n",
       "      <td>54009</td>\n",
       "      <td>0.0</td>\n",
       "    </tr>\n",
       "    <tr>\n",
       "      <th>3</th>\n",
       "      <td>74513</td>\n",
       "      <td>1.0</td>\n",
       "    </tr>\n",
       "    <tr>\n",
       "      <th>4</th>\n",
       "      <td>59564</td>\n",
       "      <td>1.0</td>\n",
       "    </tr>\n",
       "    <tr>\n",
       "      <th>...</th>\n",
       "      <td>...</td>\n",
       "      <td>...</td>\n",
       "    </tr>\n",
       "    <tr>\n",
       "      <th>72535</th>\n",
       "      <td>13261</td>\n",
       "      <td>1.0</td>\n",
       "    </tr>\n",
       "    <tr>\n",
       "      <th>72536</th>\n",
       "      <td>14715</td>\n",
       "      <td>1.0</td>\n",
       "    </tr>\n",
       "    <tr>\n",
       "      <th>72537</th>\n",
       "      <td>6480</td>\n",
       "      <td>1.0</td>\n",
       "    </tr>\n",
       "    <tr>\n",
       "      <th>72538</th>\n",
       "      <td>3442</td>\n",
       "      <td>0.0</td>\n",
       "    </tr>\n",
       "    <tr>\n",
       "      <th>72539</th>\n",
       "      <td>31217</td>\n",
       "      <td>0.0</td>\n",
       "    </tr>\n",
       "  </tbody>\n",
       "</table>\n",
       "<p>72540 rows × 2 columns</p>\n",
       "</div>"
      ],
      "text/plain": [
       "       filename  target\n",
       "0         27905     1.0\n",
       "1         13290     1.0\n",
       "2         54009     0.0\n",
       "3         74513     1.0\n",
       "4         59564     1.0\n",
       "...         ...     ...\n",
       "72535     13261     1.0\n",
       "72536     14715     1.0\n",
       "72537      6480     1.0\n",
       "72538      3442     0.0\n",
       "72539     31217     0.0\n",
       "\n",
       "[72540 rows x 2 columns]"
      ]
     },
     "execution_count": 4,
     "metadata": {},
     "output_type": "execute_result"
    }
   ],
   "source": [
    "traindf = pd.read_csv('./y_train.csv')\n",
    "traindf = traindf.rename(columns={'Unnamed: 0':'filename','G_level_n_h':'target'})\n",
    "traindf"
   ]
  },
  {
   "cell_type": "code",
   "execution_count": 3,
   "id": "4edef6a5-c3ba-4227-a164-5a77db324859",
   "metadata": {},
   "outputs": [
    {
     "data": {
      "text/html": [
       "<div>\n",
       "<style scoped>\n",
       "    .dataframe tbody tr th:only-of-type {\n",
       "        vertical-align: middle;\n",
       "    }\n",
       "\n",
       "    .dataframe tbody tr th {\n",
       "        vertical-align: top;\n",
       "    }\n",
       "\n",
       "    .dataframe thead th {\n",
       "        text-align: right;\n",
       "    }\n",
       "</style>\n",
       "<table border=\"1\" class=\"dataframe\">\n",
       "  <thead>\n",
       "    <tr style=\"text-align: right;\">\n",
       "      <th></th>\n",
       "      <th>filename</th>\n",
       "      <th>target</th>\n",
       "    </tr>\n",
       "  </thead>\n",
       "  <tbody>\n",
       "    <tr>\n",
       "      <th>0</th>\n",
       "      <td>99039</td>\n",
       "      <td>0.0</td>\n",
       "    </tr>\n",
       "    <tr>\n",
       "      <th>1</th>\n",
       "      <td>74046</td>\n",
       "      <td>1.0</td>\n",
       "    </tr>\n",
       "    <tr>\n",
       "      <th>2</th>\n",
       "      <td>63868</td>\n",
       "      <td>1.0</td>\n",
       "    </tr>\n",
       "    <tr>\n",
       "      <th>3</th>\n",
       "      <td>27490</td>\n",
       "      <td>1.0</td>\n",
       "    </tr>\n",
       "    <tr>\n",
       "      <th>4</th>\n",
       "      <td>69853</td>\n",
       "      <td>0.0</td>\n",
       "    </tr>\n",
       "    <tr>\n",
       "      <th>...</th>\n",
       "      <td>...</td>\n",
       "      <td>...</td>\n",
       "    </tr>\n",
       "    <tr>\n",
       "      <th>18131</th>\n",
       "      <td>21504</td>\n",
       "      <td>1.0</td>\n",
       "    </tr>\n",
       "    <tr>\n",
       "      <th>18132</th>\n",
       "      <td>18461</td>\n",
       "      <td>1.0</td>\n",
       "    </tr>\n",
       "    <tr>\n",
       "      <th>18133</th>\n",
       "      <td>60826</td>\n",
       "      <td>1.0</td>\n",
       "    </tr>\n",
       "    <tr>\n",
       "      <th>18134</th>\n",
       "      <td>103009</td>\n",
       "      <td>0.0</td>\n",
       "    </tr>\n",
       "    <tr>\n",
       "      <th>18135</th>\n",
       "      <td>65116</td>\n",
       "      <td>1.0</td>\n",
       "    </tr>\n",
       "  </tbody>\n",
       "</table>\n",
       "<p>18136 rows × 2 columns</p>\n",
       "</div>"
      ],
      "text/plain": [
       "       filename  target\n",
       "0         99039     0.0\n",
       "1         74046     1.0\n",
       "2         63868     1.0\n",
       "3         27490     1.0\n",
       "4         69853     0.0\n",
       "...         ...     ...\n",
       "18131     21504     1.0\n",
       "18132     18461     1.0\n",
       "18133     60826     1.0\n",
       "18134    103009     0.0\n",
       "18135     65116     1.0\n",
       "\n",
       "[18136 rows x 2 columns]"
      ]
     },
     "execution_count": 3,
     "metadata": {},
     "output_type": "execute_result"
    }
   ],
   "source": [
    "testdf = pd.read_csv('./y_test.csv')\n",
    "testdf = testdf.rename(columns={'Unnamed: 0':'filename','G_level_n_h':'target'})\n",
    "testdf"
   ]
  },
  {
   "cell_type": "code",
   "execution_count": 6,
   "id": "e935532a-4166-487f-ace3-954f7d0bdf3d",
   "metadata": {},
   "outputs": [],
   "source": [
    "df = pd.concat([traindf,testdf],ignore_index=True)"
   ]
  },
  {
   "cell_type": "code",
   "execution_count": 7,
   "id": "d0d400db-348a-49e0-92f3-3fd4b406e605",
   "metadata": {},
   "outputs": [
    {
     "data": {
      "text/html": [
       "<div>\n",
       "<style scoped>\n",
       "    .dataframe tbody tr th:only-of-type {\n",
       "        vertical-align: middle;\n",
       "    }\n",
       "\n",
       "    .dataframe tbody tr th {\n",
       "        vertical-align: top;\n",
       "    }\n",
       "\n",
       "    .dataframe thead th {\n",
       "        text-align: right;\n",
       "    }\n",
       "</style>\n",
       "<table border=\"1\" class=\"dataframe\">\n",
       "  <thead>\n",
       "    <tr style=\"text-align: right;\">\n",
       "      <th></th>\n",
       "      <th>filename</th>\n",
       "      <th>target</th>\n",
       "    </tr>\n",
       "  </thead>\n",
       "  <tbody>\n",
       "    <tr>\n",
       "      <th>0</th>\n",
       "      <td>27905</td>\n",
       "      <td>1.0</td>\n",
       "    </tr>\n",
       "    <tr>\n",
       "      <th>1</th>\n",
       "      <td>13290</td>\n",
       "      <td>1.0</td>\n",
       "    </tr>\n",
       "    <tr>\n",
       "      <th>2</th>\n",
       "      <td>54009</td>\n",
       "      <td>0.0</td>\n",
       "    </tr>\n",
       "    <tr>\n",
       "      <th>3</th>\n",
       "      <td>74513</td>\n",
       "      <td>1.0</td>\n",
       "    </tr>\n",
       "    <tr>\n",
       "      <th>4</th>\n",
       "      <td>59564</td>\n",
       "      <td>1.0</td>\n",
       "    </tr>\n",
       "    <tr>\n",
       "      <th>...</th>\n",
       "      <td>...</td>\n",
       "      <td>...</td>\n",
       "    </tr>\n",
       "    <tr>\n",
       "      <th>90671</th>\n",
       "      <td>21504</td>\n",
       "      <td>1.0</td>\n",
       "    </tr>\n",
       "    <tr>\n",
       "      <th>90672</th>\n",
       "      <td>18461</td>\n",
       "      <td>1.0</td>\n",
       "    </tr>\n",
       "    <tr>\n",
       "      <th>90673</th>\n",
       "      <td>60826</td>\n",
       "      <td>1.0</td>\n",
       "    </tr>\n",
       "    <tr>\n",
       "      <th>90674</th>\n",
       "      <td>103009</td>\n",
       "      <td>0.0</td>\n",
       "    </tr>\n",
       "    <tr>\n",
       "      <th>90675</th>\n",
       "      <td>65116</td>\n",
       "      <td>1.0</td>\n",
       "    </tr>\n",
       "  </tbody>\n",
       "</table>\n",
       "<p>90676 rows × 2 columns</p>\n",
       "</div>"
      ],
      "text/plain": [
       "       filename  target\n",
       "0         27905     1.0\n",
       "1         13290     1.0\n",
       "2         54009     0.0\n",
       "3         74513     1.0\n",
       "4         59564     1.0\n",
       "...         ...     ...\n",
       "90671     21504     1.0\n",
       "90672     18461     1.0\n",
       "90673     60826     1.0\n",
       "90674    103009     0.0\n",
       "90675     65116     1.0\n",
       "\n",
       "[90676 rows x 2 columns]"
      ]
     },
     "execution_count": 7,
     "metadata": {},
     "output_type": "execute_result"
    }
   ],
   "source": [
    "df"
   ]
  },
  {
   "cell_type": "markdown",
   "id": "2bf95a1c-aee0-4a41-bfee-f90b6d5c0964",
   "metadata": {},
   "source": [
    "### Test DF translation"
   ]
  },
  {
   "cell_type": "code",
   "execution_count": 5,
   "id": "1c647c67-0f07-43b5-a148-2c00e11a8bbb",
   "metadata": {},
   "outputs": [],
   "source": [
    "testdf.drop(columns=['filename'],inplace=True)"
   ]
  },
  {
   "cell_type": "code",
   "execution_count": 8,
   "id": "ee767ad0-be46-4a13-a6d6-fe8a0a9dc91e",
   "metadata": {},
   "outputs": [],
   "source": [
    "testdf = testdf.reset_index()"
   ]
  },
  {
   "cell_type": "code",
   "execution_count": 10,
   "id": "7fb01904-0db0-4861-8fd1-8ce3633da3e8",
   "metadata": {},
   "outputs": [],
   "source": [
    "testdf.to_csv(\"data.csv\",index=False)"
   ]
  },
  {
   "cell_type": "markdown",
   "id": "9c47b566-6c41-4cb2-af80-3567bdf217fb",
   "metadata": {},
   "source": [
    "### End of testing"
   ]
  },
  {
   "cell_type": "code",
   "execution_count": 8,
   "id": "58ceb337-774d-4e82-8f52-03d6461ad2cf",
   "metadata": {},
   "outputs": [],
   "source": [
    "df = df[df['filename'].isin([i for i in np.arange(18136)])]"
   ]
  },
  {
   "cell_type": "code",
   "execution_count": 9,
   "id": "e735c18d-eab3-4832-b3dc-9e8c0f5bd8dc",
   "metadata": {},
   "outputs": [],
   "source": [
    "df = df.sort_values(by='filename')"
   ]
  },
  {
   "cell_type": "code",
   "execution_count": 10,
   "id": "d95d7081-4a6e-47b4-b1b4-1770fda20ddb",
   "metadata": {},
   "outputs": [],
   "source": [
    "df = df.reset_index(drop=True)"
   ]
  },
  {
   "cell_type": "code",
   "execution_count": 11,
   "id": "8e442867-82bc-4130-b056-12e84c4a8e22",
   "metadata": {},
   "outputs": [],
   "source": [
    "df.to_csv('data.csv',index=False)"
   ]
  },
  {
   "cell_type": "code",
   "execution_count": 12,
   "id": "a987ee03-248a-4800-9282-78a7fdb78f29",
   "metadata": {},
   "outputs": [],
   "source": [
    "IMG_DIR = './test'\n",
    "CSV_FILE = './data.csv'\n",
    "device = 'mps' if torch.backends.mps.is_available() else ('cuda' if torch.cuda.is_available() else 'cpu')"
   ]
  },
  {
   "cell_type": "code",
   "execution_count": 13,
   "id": "f18689b0-877e-4853-b117-b6a747d4f2ee",
   "metadata": {},
   "outputs": [],
   "source": [
    "BATCH_SIZE=32\n",
    "IMG_SIZE = 224\n",
    "train_transforms = transforms.Compose([\n",
    "    transforms.Lambda(\n",
    "        lambda img: transforms.functional.crop(img, top=15, left=89, height=486, width=759)\n",
    "    ),\n",
    "    transforms.Resize((IMG_SIZE, IMG_SIZE)),\n",
    "    \n",
    "    transforms.ToTensor(),\n",
    "    transforms.Lambda(lambda x: x[:3, :, :]),\n",
    "    transforms.Normalize(mean=[0.485, 0.456, 0.406],  # ImageNet mean\n",
    "                         std=[0.229, 0.224, 0.225])   # ImageNet std\n",
    "])\n",
    "\n",
    "# Validation transforms (no augmentation)\n",
    "val_transforms = transforms.Compose([\n",
    "    transforms.Lambda(\n",
    "        lambda img: transforms.functional.crop(img, top=15, left=89, height=486, width=759)\n",
    "    ),\n",
    "    transforms.Resize((IMG_SIZE, IMG_SIZE)),\n",
    "    transforms.ToTensor(),\n",
    "    transforms.Lambda(lambda x: x[:3, :, :]),\n",
    "    transforms.Normalize(mean=[0.485, 0.456, 0.406],\n",
    "                         std=[0.229, 0.224, 0.225])\n",
    "])\n"
   ]
  },
  {
   "cell_type": "code",
   "execution_count": 14,
   "id": "4322011c-e1f1-4bed-a2b4-1386f3d837be",
   "metadata": {},
   "outputs": [],
   "source": [
    "class ECGDataset(Dataset):\n",
    "    def __init__(self, csv_file, img_dir, transform=None):\n",
    "        self.annotations = pd.read_csv(csv_file)\n",
    "        self.img_dir = img_dir\n",
    "        self.transform = transform\n",
    "        \n",
    "    def __len__(self):\n",
    "        return len(self.annotations)\n",
    "    \n",
    "    def __getitem__(self, idx):\n",
    "        img_name = os.path.join(self.img_dir, str(self.annotations.iloc[idx, 0])+'.png')\n",
    "        image = Image.open(img_name).convert(\"RGB\")\n",
    "        \n",
    "        # Numeric label directly from CSV (0 or 1)\n",
    "        label = int(self.annotations.iloc[idx, 1])\n",
    "        \n",
    "        # Apply transforms if any\n",
    "        if self.transform:\n",
    "            image = self.transform(image)\n",
    "        \n",
    "        return image, label"
   ]
  },
  {
   "cell_type": "code",
   "execution_count": 15,
   "id": "21e11fe3-485c-43e8-b7d6-a88ec7176bcd",
   "metadata": {},
   "outputs": [
    {
     "name": "stdout",
     "output_type": "stream",
     "text": [
      "Batch shape: torch.Size([32, 3, 224, 224])\n",
      "Labels: tensor([1, 0, 1, 0, 0, 0, 1, 1, 1, 0])\n"
     ]
    }
   ],
   "source": [
    "dataset = ECGDataset(csv_file=CSV_FILE, img_dir=IMG_DIR, transform=train_transforms)\n",
    "\n",
    "train_size = int(0.8 * len(dataset))\n",
    "val_size = len(dataset) - train_size\n",
    "train_dataset, val_dataset = random_split(dataset, [train_size, val_size])\n",
    "\n",
    "# DataLoaders\n",
    "train_loader = DataLoader(train_dataset, batch_size=32, shuffle=True)\n",
    "val_loader = DataLoader(val_dataset, batch_size=32, shuffle=False)\n",
    "\n",
    "# Peek\n",
    "for imgs, labels in train_loader:\n",
    "    print(\"Batch shape:\", imgs.shape)   # [B, 3, 224, 224]\n",
    "    print(\"Labels:\", labels[:10])       # e.g. tensor([0,1,0,1,...])\n",
    "    break"
   ]
  },
  {
   "cell_type": "code",
   "execution_count": null,
   "id": "51f37959-53d0-4fc2-afe9-fc7011be1172",
   "metadata": {},
   "outputs": [],
   "source": []
  },
  {
   "cell_type": "markdown",
   "id": "642a7917-964d-4081-b2c4-d5056093d25d",
   "metadata": {},
   "source": [
    "## 1. Feature Extractor on PreTrained Model"
   ]
  },
  {
   "cell_type": "code",
   "execution_count": 16,
   "id": "d26240cd-53ee-45b5-9ad6-9f0f693283b9",
   "metadata": {},
   "outputs": [],
   "source": [
    "model = models.resnet50(weights=\"IMAGENET1K_V1\")\n",
    "\n",
    "# Freeze convolutional layers (feature extractor)\n",
    "for param in model.parameters():\n",
    "    param.requires_grad = False\n",
    "\n",
    "# Replace classifier head\n",
    "model.fc = nn.Linear(model.fc.in_features, 2)\n",
    "model = model.to(device)"
   ]
  },
  {
   "cell_type": "code",
   "execution_count": 17,
   "id": "0d3f8606-3296-4f34-a8c0-8415fd982722",
   "metadata": {},
   "outputs": [],
   "source": [
    "criterion = nn.CrossEntropyLoss()\n",
    "def evaluate(model, loader):\n",
    "    predictions = []\n",
    "    true_labels = []\n",
    "    model.eval()\n",
    "    correct, total, val_loss = 0, 0, 0.0\n",
    "    with torch.no_grad():\n",
    "        for images, labels in loader:\n",
    "            images, labels = images.to(device), labels.to(device)\n",
    "            outputs = model(images)\n",
    "            loss = criterion(outputs,labels)\n",
    "            val_loss+=loss.item()\n",
    "            _ , preds = outputs.max(1)\n",
    "            predictions.extend(preds.cpu().numpy())\n",
    "            true_labels.extend(labels.cpu().numpy())\n",
    "            correct += preds.eq(labels).sum().item()\n",
    "            total += labels.size(0)\n",
    "    return predictions, true_labels, 100 * correct / total,val_loss\n",
    "\n",
    "def train_model(model, train_loader, val_loader, criterion, epochs=5):\n",
    "    train_accuracy = []\n",
    "    val_accuracy = []\n",
    "    val_losses=[]\n",
    "    train_losses=[]\n",
    "    \n",
    "    \n",
    "    optimizer = optim.Adam(model.fc.parameters(), lr=1e-4)\n",
    "    for epoch in range(epochs):\n",
    "        model.train()\n",
    "        running_loss, correct, total = 0, 0, 0\n",
    "        \n",
    "        for images, labels in train_loader:\n",
    "            images, labels = images.to(device), labels.to(device)\n",
    "            \n",
    "            optimizer.zero_grad()\n",
    "            outputs = model(images)\n",
    "            loss = criterion(outputs, labels)\n",
    "            loss.backward()\n",
    "            optimizer.step()\n",
    "            \n",
    "            running_loss += loss.item()\n",
    "            _, preds = outputs.max(1)\n",
    "            correct += preds.eq(labels).sum().item()\n",
    "            total += labels.size(0)\n",
    "        \n",
    "        train_acc = 100 * correct / total\n",
    "        predictions, true_labels, val_acc, val_loss = evaluate(model, val_loader)\n",
    "        train_accuracy.append(train_acc)\n",
    "        val_accuracy.append(val_acc)\n",
    "        train_losses.append(running_loss/len(train_loader))\n",
    "        val_losses.append(val_loss/len(val_loader))\n",
    "        print(f\"Epoch [{epoch+1}/{epochs}] | Loss: {running_loss/len(train_loader):.4f} | \"\n",
    "              f\"Train Acc: {train_acc:.2f}% | Val Acc: {val_acc:.2f}%\")\n",
    "    return predictions, true_labels, train_accuracy,val_accuracy,train_losses,val_losses"
   ]
  },
  {
   "cell_type": "code",
   "execution_count": 18,
   "id": "94ac5851-a893-4c1d-9ade-f13cbbfb1d03",
   "metadata": {},
   "outputs": [
    {
     "name": "stdout",
     "output_type": "stream",
     "text": [
      "Epoch [1/5] | Loss: 0.6989 | Train Acc: 50.00% | Val Acc: 49.04%\n",
      "Epoch [2/5] | Loss: 0.6990 | Train Acc: 49.61% | Val Acc: 50.36%\n",
      "Epoch [3/5] | Loss: 0.6978 | Train Acc: 50.43% | Val Acc: 49.17%\n",
      "Epoch [4/5] | Loss: 0.6949 | Train Acc: 51.65% | Val Acc: 49.23%\n",
      "Epoch [5/5] | Loss: 0.6943 | Train Acc: 51.67% | Val Acc: 50.58%\n"
     ]
    }
   ],
   "source": [
    "predictions, true_labels, train_accuracy,val_accuracy,train_losses,val_losses = train_model(model, train_loader, val_loader, criterion, epochs=5)"
   ]
  },
  {
   "cell_type": "code",
   "execution_count": 31,
   "id": "e8e85d2a-5891-48b4-8a6c-9d14cc0ff41b",
   "metadata": {},
   "outputs": [],
   "source": [
    "def plot_confusion_matrix(y_true, y_pred, title, class_names=['Class 0', 'Class 1']):\n",
    "    \"\"\"Plot confusion matrix\"\"\"\n",
    "    cm = confusion_matrix(y_true, y_pred)\n",
    "    plt.figure(figsize=(8, 6))\n",
    "    sns.heatmap(cm, annot=True, fmt='d', cmap='Blues', \n",
    "                xticklabels=class_names, yticklabels=class_names)\n",
    "    plt.title(f'Confusion Matrix - {title}')\n",
    "    plt.xlabel('Predicted')\n",
    "    plt.ylabel('Actual')\n",
    "    plt.show()\n",
    "    \n",
    "    return cm"
   ]
  },
  {
   "cell_type": "code",
   "execution_count": 34,
   "id": "d8bb71dc-9a39-4a1f-b28f-50209ff65fb4",
   "metadata": {},
   "outputs": [
    {
     "data": {
      "image/png": "[encoded data removed]",
      "text/plain": [
       "<Figure size 800x600 with 2 Axes>"
      ]
     },
     "metadata": {},
     "output_type": "display_data"
    },
    {
     "data": {
      "text/plain": [
       "array([[1019,  606],\n",
       "       [1225,  778]])"
      ]
     },
     "execution_count": 34,
     "metadata": {},
     "output_type": "execute_result"
    }
   ],
   "source": [
    "plot_confusion_matrix(true_labels,predictions,\"Sample\")"
   ]
  },
  {
   "cell_type": "code",
   "execution_count": 58,
   "id": "ea267acd-bbff-4ec5-a908-27e082044249",
   "metadata": {},
   "outputs": [],
   "source": [
    "def plot_curves(train_accuracy,train_losses,val_accuracy, val_losses):\n",
    "    fig,(ax1,ax2) = plt.subplots(1,2,figsize=(9,4))\n",
    "    epochs = range(1,len(train_accuracy)+1)\n",
    "    ax1.plot(epochs,train_accuracy,'b-',label='Train Accuracy')\n",
    "    ax1.plot(epochs,val_accuracy,'r-',label='Validation Accuracy')\n",
    "    ax1.set_title(\"Accuracy Curve\")\n",
    "    ax1.set_xlabel('Epochs')\n",
    "    ax1.set_ylabel('Accuracy')\n",
    "    ax1.legend()\n",
    "    ax1.grid(True)\n",
    "\n",
    "    \n",
    "    ax2.plot(epochs,train_losses,'b-',label='Train Loss')\n",
    "    ax2.plot(epochs,val_losses,'r-',label='Validation Loss')\n",
    "    ax2.set_title(\"Loss Curve\")\n",
    "    ax2.set_xlabel('Epochs')\n",
    "    ax2.set_ylabel('Loss')\n",
    "    ax2.legend()\n",
    "    ax2.grid(True)\n",
    "\n",
    "    plt.tight_layout()\n",
    "    plt.show()\n",
    "    "
   ]
  },
  {
   "cell_type": "code",
   "execution_count": 59,
   "id": "9f20df2f-9120-4841-a453-44fa9775a652",
   "metadata": {},
   "outputs": [
    {
     "data": {
      "image/png": "[encoded data removed]",
      "text/plain": [
       "<Figure size 900x400 with 2 Axes>"
      ]
     },
     "metadata": {},
     "output_type": "display_data"
    }
   ],
   "source": [
    "plot_curves(train_accuracy,train_losses,val_accuracy, val_losses)"
   ]
  },
  {
   "cell_type": "markdown",
   "id": "23f4f0c6-b9f9-454c-9419-3747b2964e33",
   "metadata": {},
   "source": [
    "## 2. Fine-Tuning the PreTrained Model"
   ]
  },
  {
   "cell_type": "code",
   "execution_count": 60,
   "id": "8866c843-adda-46fd-8a81-9b8123fb5cae",
   "metadata": {},
   "outputs": [],
   "source": [
    "Finetuned_model = models.resnet50(weights=\"IMAGENET1K_V1\")\n",
    "Finetuned_model.fc = nn.Linear(model.fc.in_features, 2)\n",
    "Finetuned_model = Finetuned_model.to(device)"
   ]
  },
  {
   "cell_type": "code",
   "execution_count": 61,
   "id": "ea068c2e-da24-4e49-a04f-9a28553be896",
   "metadata": {},
   "outputs": [
    {
     "name": "stdout",
     "output_type": "stream",
     "text": [
      "Epoch [1/5] | Loss: 0.6896 | Train Acc: 55.21% | Val Acc: 54.13%\n",
      "Epoch [2/5] | Loss: 0.6897 | Train Acc: 55.36% | Val Acc: 55.13%\n",
      "Epoch [3/5] | Loss: 0.6884 | Train Acc: 55.67% | Val Acc: 54.99%\n",
      "Epoch [4/5] | Loss: 0.6858 | Train Acc: 55.72% | Val Acc: 54.93%\n",
      "Epoch [5/5] | Loss: 0.6861 | Train Acc: 56.02% | Val Acc: 54.33%\n"
     ]
    }
   ],
   "source": [
    "predictions1, true_labels1, train_accuracy1,val_accuracy1,train_losses1,val_losses1 = train_model(Finetuned_model, train_loader, val_loader, criterion, epochs=5)"
   ]
  },
  {
   "cell_type": "code",
   "execution_count": null,
   "id": "7e6750ff-4597-44b1-bbd5-1845fcfb22ea",
   "metadata": {},
   "outputs": [],
   "source": []
  },
  {
   "cell_type": "code",
   "execution_count": null,
   "id": "06b450fe-4107-4022-9b1a-05235ff1a200",
   "metadata": {},
   "outputs": [],
   "source": []
  },
  {
   "cell_type": "code",
   "execution_count": null,
   "id": "2ee9dc6f-23b8-4abc-aa4f-e93f99a8a7de",
   "metadata": {},
   "outputs": [],
   "source": []
  },
  {
   "cell_type": "code",
   "execution_count": null,
   "id": "20f0ba1f-6f87-4516-ad20-69977f8ff9fa",
   "metadata": {},
   "outputs": [],
   "source": []
  },
  {
   "cell_type": "code",
   "execution_count": null,
   "id": "fa2a3700-2cfb-42be-a3bd-d09d2e15907b",
   "metadata": {},
   "outputs": [],
   "source": [
    "full_dataset = datasets.ImageFolder(BASE_DIR, transform=train_transforms)\n",
    "class_names = full_dataset.classes\n",
    "print(\"Total classes:\", len(class_names))\n",
    "\n",
    "# Train/val split\n",
    "train_size = int(0.8 * len(full_dataset))\n",
    "val_size = len(full_dataset) - train_size\n",
    "train_dataset, val_dataset = torch.utils.data.random_split(full_dataset, [train_size, val_size])\n",
    "\n",
    "# But apply val transforms separately\n",
    "val_dataset.dataset.transform = val_transforms\n",
    "\n",
    "# DataLoaders (streams batches, avoids RAM overflow)\n",
    "train_loader = DataLoader(train_dataset, batch_size=BATCH_SIZE, shuffle=True, num_workers=2, pin_memory=True)\n",
    "val_loader = DataLoader(val_dataset, batch_size=BATCH_SIZE, shuffle=False, num_workers=2, pin_memory=True)\n"
   ]
  },
  {
   "cell_type": "code",
   "execution_count": null,
   "id": "5d8a32da-c49b-4721-a3f2-55a245686452",
   "metadata": {},
   "outputs": [],
   "source": []
  },
  {
   "cell_type": "code",
   "execution_count": null,
   "id": "c59fea16-3f13-429e-ae04-db292e27e82e",
   "metadata": {},
   "outputs": [],
   "source": []
  },
  {
   "cell_type": "code",
   "execution_count": null,
   "id": "1765de46-a001-499c-8722-34e648d43b0f",
   "metadata": {},
   "outputs": [],
   "source": []
  },
  {
   "cell_type": "code",
   "execution_count": null,
   "id": "fb5c1143-aaf2-4a98-a44e-9b53263d4837",
   "metadata": {},
   "outputs": [],
   "source": []
  },
  {
   "cell_type": "code",
   "execution_count": 12,
   "id": "685275b3-2a91-4060-8bf9-e12b5a557787",
   "metadata": {},
   "outputs": [],
   "source": [
    "from torchvision import transforms\n",
    "from PIL import Image\n",
    "import matplotlib.pyplot as plt"
   ]
  },
  {
   "cell_type": "code",
   "execution_count": 13,
   "id": "fee44d3b-0038-467e-9066-44b3ace1d808",
   "metadata": {},
   "outputs": [],
   "source": [
    "image_path = \"./test/test_row013298.png\"  # Replace with your image path\n",
    "img = Image.open(image_path)"
   ]
  },
  {
   "cell_type": "code",
   "execution_count": 14,
   "id": "14b6d2fd-4cfb-4f06-9d41-ebc2ec2af1ea",
   "metadata": {},
   "outputs": [],
   "source": [
    "img.show()"
   ]
  },
  {
   "cell_type": "code",
   "execution_count": 21,
   "id": "a27f9566-d80a-467c-9e76-656542b2dffe",
   "metadata": {},
   "outputs": [
    {
     "ename": "TypeError",
     "evalue": "'PngImageFile' object is not subscriptable",
     "output_type": "error",
     "traceback": [
      "\u001b[0;31m---------------------------------------------------------------------------\u001b[0m",
      "\u001b[0;31mTypeError\u001b[0m                                 Traceback (most recent call last)",
      "Cell \u001b[0;32mIn[21], line 1\u001b[0m\n\u001b[0;32m----> 1\u001b[0m img_rgb \u001b[38;5;241m=\u001b[39m img[:,:,:\u001b[38;5;241m3\u001b[39m]\n",
      "\u001b[0;31mTypeError\u001b[0m: 'PngImageFile' object is not subscriptable"
     ]
    }
   ],
   "source": [
    "img_rgb = img[:,:,:3]"
   ]
  },
  {
   "cell_type": "code",
   "execution_count": 22,
   "id": "21c3a310-49a4-4cfa-9696-8db9e2f5ce20",
   "metadata": {},
   "outputs": [],
   "source": [
    "transform_pipeline = transforms.Compose([\n",
    "        transforms.functional.crop()\n",
    "        transforms.Resize((256, 256)),  # Resize to 256x256 pixels\n",
    "        #transforms.RandomHorizontalFlip(), # Randomly flip horizontally\n",
    "        transforms.ToTensor(),          # Convert PIL Image to PyTorch Tensor\n",
    "        #transforms.Normalize(mean=[0.485, 0.456, 0.406], std=[0.229, 0.224, 0.225]) # Normalize\n",
    "    ])"
   ]
  },
  {
   "cell_type": "code",
   "execution_count": 86,
   "id": "f3b320aa-4a41-46c8-9f6e-b0b34f96b3b8",
   "metadata": {},
   "outputs": [],
   "source": [
    "custom_crop_transform = transforms.Lambda(\n",
    "        lambda img: transforms.functional.crop(img, top=15, left=89, height=486, width=759)\n",
    "    )"
   ]
  },
  {
   "cell_type": "code",
   "execution_count": 87,
   "id": "3ea804d4-6556-495d-a0d3-ad84811db863",
   "metadata": {},
   "outputs": [],
   "source": [
    "transformed_img = custom_crop_transform(img)"
   ]
  },
  {
   "cell_type": "code",
   "execution_count": 88,
   "id": "e9b912bf-4a13-41ac-9a2a-0ae1678fd91e",
   "metadata": {},
   "outputs": [],
   "source": [
    "transformed_img.show()"
   ]
  },
  {
   "cell_type": "code",
   "execution_count": 32,
   "id": "8a58778f-d407-4cbd-9b6b-6a651ba2fd83",
   "metadata": {},
   "outputs": [
    {
     "ename": "TypeError",
     "evalue": "'Image' object is not iterable",
     "output_type": "error",
     "traceback": [
      "\u001b[0;31m---------------------------------------------------------------------------\u001b[0m",
      "\u001b[0;31mTypeError\u001b[0m                                 Traceback (most recent call last)",
      "Cell \u001b[0;32mIn[32], line 4\u001b[0m\n\u001b[1;32m      1\u001b[0m \u001b[38;5;66;03m# For visualization, un-normalize and permute dimensions\u001b[39;00m\n\u001b[1;32m      2\u001b[0m \u001b[38;5;66;03m# Note: This is an approximation for visualization and might not be exact inverse\u001b[39;00m\n\u001b[0;32m----> 4\u001b[0m \u001b[38;5;28;01mfor\u001b[39;00m t, m, s \u001b[38;5;129;01min\u001b[39;00m \u001b[38;5;28mzip\u001b[39m(transformed_img, [\u001b[38;5;241m0.485\u001b[39m, \u001b[38;5;241m0.456\u001b[39m, \u001b[38;5;241m0.406\u001b[39m], [\u001b[38;5;241m0.229\u001b[39m, \u001b[38;5;241m0.224\u001b[39m, \u001b[38;5;241m0.225\u001b[39m]):\n\u001b[1;32m      5\u001b[0m     t\u001b[38;5;241m.\u001b[39mmul_(s)\u001b[38;5;241m.\u001b[39madd_(m)\n\u001b[1;32m      6\u001b[0m plt\u001b[38;5;241m.\u001b[39mimshow(img_display\u001b[38;5;241m.\u001b[39mpermute(\u001b[38;5;241m1\u001b[39m, \u001b[38;5;241m2\u001b[39m, \u001b[38;5;241m0\u001b[39m)) \u001b[38;5;66;03m# Change from CHW to HWC for plotting\u001b[39;00m\n",
      "\u001b[0;31mTypeError\u001b[0m: 'Image' object is not iterable"
     ]
    }
   ],
   "source": [
    "# For visualization, un-normalize and permute dimensions\n",
    "# Note: This is an approximation for visualization and might not be exact inverse\n",
    "\n",
    "for t, m, s in zip(transformed_img, [0.485, 0.456, 0.406], [0.229, 0.224, 0.225]):\n",
    "    t.mul_(s).add_(m)\n",
    "plt.imshow(img_display.permute(1, 2, 0)) # Change from CHW to HWC for plotting\n",
    "plt.title(\"Transformed Image\")\n",
    "plt.show()"
   ]
  },
  {
   "cell_type": "code",
   "execution_count": null,
   "id": "4927d260-4a02-44c7-a271-02e51bcaa1e4",
   "metadata": {},
   "outputs": [],
   "source": []
  }
 ],
 "metadata": {
  "kernelspec": {
   "display_name": "Python [conda env:base] *",
   "language": "python",
   "name": "conda-base-py"
  },
  "language_info": {
   "codemirror_mode": {
    "name": "ipython",
    "version": 3
   },
   "file_extension": ".py",
   "mimetype": "text/x-python",
   "name": "python",
   "nbconvert_exporter": "python",
   "pygments_lexer": "ipython3",
   "version": "3.12.2"
  }
 },
 "nbformat": 4,
 "nbformat_minor": 5
}
